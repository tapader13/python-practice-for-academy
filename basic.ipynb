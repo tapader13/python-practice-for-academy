{
  "cells": [
    {
      "cell_type": "markdown",
      "metadata": {
        "id": "view-in-github",
        "colab_type": "text"
      },
      "source": [
        "<a href=\"https://colab.research.google.com/github/tapader13/python-practice-for-academy/blob/main/basic.ipynb\" target=\"_parent\"><img src=\"https://colab.research.google.com/assets/colab-badge.svg\" alt=\"Open In Colab\"/></a>"
      ]
    },
    {
      "cell_type": "code",
      "execution_count": null,
      "metadata": {
        "colab": {
          "base_uri": "https://localhost:8080/"
        },
        "id": "VJNyKEpT2XBr",
        "outputId": "326fe92d-8ca5-427e-e7ca-c9bbb9742859"
      },
      "outputs": [
        {
          "name": "stdout",
          "output_type": "stream",
          "text": [
            "minhaj\n"
          ]
        }
      ],
      "source": [
        "print(\"minhaj\")"
      ]
    },
    {
      "cell_type": "code",
      "execution_count": null,
      "metadata": {
        "colab": {
          "base_uri": "https://localhost:8080/"
        },
        "id": "0EadBcFM6l6w",
        "outputId": "faef5ac5-8c58-49ba-c225-285e70ca748c"
      },
      "outputs": [
        {
          "name": "stdout",
          "output_type": "stream",
          "text": [
            "2\n"
          ]
        }
      ],
      "source": [
        "print(1);\n",
        "print(2);"
      ]
    },
    {
      "cell_type": "code",
      "execution_count": null,
      "metadata": {
        "colab": {
          "base_uri": "https://localhost:8080/"
        },
        "id": "wGgIlkOfe9ds",
        "outputId": "40df0153-a323-4b0e-9736-170c33a12ea6"
      },
      "outputs": [
        {
          "output_type": "stream",
          "name": "stdout",
          "text": [
            "minhaj\n"
          ]
        }
      ],
      "source": [
        "name=\"minhaj\"\n",
        "print(name)\n",
        "\n",
        "\n",
        "#comment\n",
        "\n",
        "#single line comment\n",
        "\n",
        "# hjhlkg\n",
        "# fkjgfdjkg\n",
        "\n",
        "\n",
        "\n",
        "\n"
      ]
    },
    {
      "cell_type": "code",
      "source": [
        "#function\n",
        "def name():\n",
        "  print(\"minhaj\")\n",
        "name()\n",
        "\n",
        "def squre(i): #parameter\n",
        "  return i*i\n",
        "result=squre(5) #argumant\n",
        "print(result)\n",
        "\n",
        "#positional\n",
        "name1=\"minhaj\"\n",
        "def add(a,name1):\n",
        "  return str(a)+name1\n",
        "result=add(1,name1)\n",
        "print(result)\n",
        "\n",
        "#keyword\n",
        "def add1(a,name1):\n",
        "  return str(a)+name1\n",
        "result=add1(a=1,name1=\"minhaj\")\n",
        "print(result)\n",
        "\n",
        "#default\n",
        "def add2(a=0,name1=\"\"):\n",
        "  return str(a)+name1\n",
        "result=add2()\n",
        "print(result)\n",
        "\n",
        "#scope\n",
        "def scopePractice():\n",
        "  name=\"tapader\"\n",
        "  print(name)\n",
        "scopePractice()\n",
        "# print(name)\n",
        "\n",
        "#decoration\n",
        "def my_decorator(func):\n",
        "    def wrapper(i):\n",
        "        print(\"Something is happening before the function is called.\")\n",
        "        func(i)\n",
        "        print(\"Something is happening after the function is called.\")\n",
        "    return wrapper\n",
        "\n",
        "@my_decorator\n",
        "def dec_func(i):\n",
        "  print(i)\n",
        "\n",
        "dec_func(10)\n",
        "\n",
        "#lamda\n",
        "ans= lambda x:x+1\n",
        "print(ans(10))\n",
        "\n",
        "#map\n",
        "numbers=[1,2,3,4]\n",
        "ans_map=map(lambda x:x*2,numbers)\n",
        "print(list(ans_map))\n",
        "\n",
        "#filter\n",
        "ans_filter=filter(lambda x:x%2==0,numbers)\n",
        "print(list(ans_filter))\n",
        "\n",
        "#sort\n",
        "names=[\"minhaj\",\"mif\",\"tapader\"]\n",
        "# names.sort(key=lambda x:len(x))\n",
        "names.sort(key=lambda x:x[0])\n",
        "print(names)\n",
        "\n",
        "#reduce\n",
        "from functools import reduce\n",
        "ans_reduce=reduce(lambda x,y:x+y,numbers,5)\n",
        "print(ans_reduce)"
      ],
      "metadata": {
        "colab": {
          "base_uri": "https://localhost:8080/"
        },
        "id": "XmgPNOw_W1nB",
        "outputId": "0d6ba172-53d1-4522-9392-c62dba5b19be"
      },
      "execution_count": 21,
      "outputs": [
        {
          "output_type": "stream",
          "name": "stdout",
          "text": [
            "minhaj\n",
            "25\n",
            "1minhaj\n",
            "1minhaj\n",
            "0\n",
            "tapader\n",
            "Something is happening before the function is called.\n",
            "10\n",
            "Something is happening after the function is called.\n",
            "11\n",
            "[2, 4, 6, 8]\n",
            "[2, 4]\n",
            "['minhaj', 'mif', 'tapader']\n",
            "15\n"
          ]
        }
      ]
    },
    {
      "cell_type": "code",
      "source": [
        "#dictionary\n",
        "info={\n",
        "    \"name\":\"minhaj\",\n",
        "    \"roll\":13,\n",
        "    \"university\":\"netrokona university\"\n",
        "}\n",
        "print(info)\n",
        "print(info.keys())\n",
        "print(info.values())\n",
        "print(list(info.items()))\n",
        "print(info['name'])\n",
        "info[\"semester\"]=7\n",
        "print(info.get(\"name1\",\"not found data\"))\n",
        "del info[\"semester\"]\n",
        "print(info)\n",
        "info.pop(\"roll\",\"not poped\")\n",
        "print(info)\n",
        "info.popitem()\n",
        "print(info)\n",
        "info.clear()\n",
        "print(info)\n",
        "\n",
        "#comprehensive dictionary\n",
        "res1={i:i*i for i in range(1,10)}\n",
        "print(res1)\n",
        "res2={i:i*i for i in range(1,10) if i%2==0}\n",
        "print(res2)\n",
        "\n",
        "#for loop dictionary\n",
        "for i in res1:\n",
        "    print(res1[i])\n",
        "    print(i)"
      ],
      "metadata": {
        "colab": {
          "base_uri": "https://localhost:8080/"
        },
        "id": "xmYGXbBUAKLw",
        "outputId": "d0ed7de8-5c8c-419c-9e4e-bb839121cb38"
      },
      "execution_count": null,
      "outputs": [
        {
          "output_type": "stream",
          "name": "stdout",
          "text": [
            "{'name': 'minhaj', 'roll': 13, 'university': 'netrokona university'}\n",
            "dict_keys(['name', 'roll', 'university'])\n",
            "dict_values(['minhaj', 13, 'netrokona university'])\n",
            "[('name', 'minhaj'), ('roll', 13), ('university', 'netrokona university')]\n",
            "minhaj\n",
            "not found data\n",
            "{'name': 'minhaj', 'roll': 13, 'university': 'netrokona university'}\n",
            "{'name': 'minhaj', 'university': 'netrokona university'}\n",
            "{'name': 'minhaj'}\n",
            "{}\n",
            "{1: 1, 2: 4, 3: 9, 4: 16, 5: 25, 6: 36, 7: 49, 8: 64, 9: 81}\n",
            "{2: 4, 4: 16, 6: 36, 8: 64}\n",
            "1\n",
            "1\n",
            "4\n",
            "2\n",
            "9\n",
            "3\n",
            "16\n",
            "4\n",
            "25\n",
            "5\n",
            "36\n",
            "6\n",
            "49\n",
            "7\n",
            "64\n",
            "8\n",
            "81\n",
            "9\n"
          ]
        }
      ]
    },
    {
      "cell_type": "code",
      "source": [
        "#string method\n",
        "name=\"minhaj uddin tapader\"\n",
        "print(name.lower())\n",
        "print(name.upper())\n",
        "print(name.capitalize())\n",
        "print(name.swapcase())\n",
        "print(name.title())\n",
        "print(name.find(\"u\"))\n",
        "# inp=input().lower()\n",
        "# print(inp)\n",
        "print(name.split(\" \"))\n",
        "print(\",\".join(name.split(\" \")))\n",
        "print(name.replace(\"minhaj\",\"minhaj tapader\"))\n",
        "print(name.startswith(\"m\"))\n",
        "print(name.isalpha())\n",
        "print(name.isdigit())\n",
        "print(name.isalnum())\n",
        "\n"
      ],
      "metadata": {
        "id": "QZY6taMwhgH2",
        "colab": {
          "base_uri": "https://localhost:8080/"
        },
        "outputId": "0d61b057-196e-431e-83bd-37486666112b"
      },
      "execution_count": null,
      "outputs": [
        {
          "output_type": "stream",
          "name": "stdout",
          "text": [
            "minhaj uddin tapader\n",
            "MINHAJ UDDIN TAPADER\n",
            "Minhaj uddin tapader\n",
            "MINHAJ UDDIN TAPADER\n",
            "Minhaj Uddin Tapader\n",
            "7\n",
            "['minhaj', 'uddin', 'tapader']\n",
            "minhaj,uddin,tapader\n",
            "minhaj tapader uddin tapader\n",
            "True\n",
            "False\n",
            "False\n",
            "False\n"
          ]
        }
      ]
    },
    {
      "cell_type": "code",
      "source": [
        "from ast import comprehension\n",
        "#list\n",
        "list1=[1,2]\n",
        "list2=list((1,2))\n",
        "list3=range(1,10)\n",
        "list4=list(list3)\n",
        "print(list1,list2,list3,list4)\n",
        "\n",
        "comprehension_list=[i for i in range(1,10) if i%2==0]\n",
        "print(comprehension_list)\n",
        "\n",
        "i=10\n",
        "ternary_op= \"even\" if i%2==0 else \"odd\"\n",
        "print(ternary_op)\n",
        "\n",
        "nested_ternary_op=\"eligible\" if i>=18 else \"not possible\" if i<=0 else \"not eligible\"\n",
        "print(nested_ternary_op)\n",
        "\n",
        "list5=list(range(1,10))\n",
        "list5[0:2]=4,5,6\n",
        "print(list5)\n",
        "print(list4+list5)\n",
        "list5.append(67)\n",
        "print(list5)\n",
        "list5.insert(0,56)\n",
        "print(list5)\n",
        "list5.extend([4,5,6])\n",
        "print(list5)\n",
        "list5.remove(56)\n",
        "print(list5)\n",
        "list5.pop(4)\n",
        "print(list5)\n",
        "# list5.clear()\n",
        "# print(list5)\n",
        "print(4 in list5)\n",
        "list6=list5\n",
        "list6[0]=9\n",
        "print(list6,list5)\n",
        "list6=list5.copy()\n",
        "list6[0]=10\n",
        "print(list6,list5)\n",
        "list6.sort(reverse=True)\n",
        "print(list6)\n",
        "print(list6.index(5))\n",
        "print(list6.count(5))\n",
        "print(list6.reverse())\n",
        "print(list6)\n",
        "print(min(list6),max(list6),sum(list6))\n",
        "set1=set(list5)\n",
        "print(set1)\n",
        "set2=set(list6)\n",
        "print(set2)\n",
        "print(set1.union(set2))\n",
        "print(list(set1.intersection(set2)))\n",
        "print(set1.difference(set2))"
      ],
      "metadata": {
        "colab": {
          "base_uri": "https://localhost:8080/"
        },
        "id": "h84DJoqhn7EB",
        "outputId": "aa0bccf1-d967-47a8-bc2d-9b934e1fa32e"
      },
      "execution_count": null,
      "outputs": [
        {
          "output_type": "stream",
          "name": "stdout",
          "text": [
            "[1, 2] [1, 2] range(1, 10) [1, 2, 3, 4, 5, 6, 7, 8, 9]\n",
            "[2, 4, 6, 8]\n",
            "even\n",
            "not eligible\n",
            "[4, 5, 6, 3, 4, 5, 6, 7, 8, 9]\n",
            "[1, 2, 3, 4, 5, 6, 7, 8, 9, 4, 5, 6, 3, 4, 5, 6, 7, 8, 9]\n",
            "[4, 5, 6, 3, 4, 5, 6, 7, 8, 9, 67]\n",
            "[56, 4, 5, 6, 3, 4, 5, 6, 7, 8, 9, 67]\n",
            "[56, 4, 5, 6, 3, 4, 5, 6, 7, 8, 9, 67, 4, 5, 6]\n",
            "[4, 5, 6, 3, 4, 5, 6, 7, 8, 9, 67, 4, 5, 6]\n",
            "[4, 5, 6, 3, 5, 6, 7, 8, 9, 67, 4, 5, 6]\n",
            "True\n",
            "[9, 5, 6, 3, 5, 6, 7, 8, 9, 67, 4, 5, 6] [9, 5, 6, 3, 5, 6, 7, 8, 9, 67, 4, 5, 6]\n",
            "[10, 5, 6, 3, 5, 6, 7, 8, 9, 67, 4, 5, 6] [9, 5, 6, 3, 5, 6, 7, 8, 9, 67, 4, 5, 6]\n",
            "[67, 10, 9, 8, 7, 6, 6, 6, 5, 5, 5, 4, 3]\n",
            "8\n",
            "3\n",
            "None\n",
            "[3, 4, 5, 5, 5, 6, 6, 6, 7, 8, 9, 10, 67]\n",
            "3 67 141\n",
            "{3, 67, 5, 6, 7, 8, 9, 4}\n",
            "{3, 4, 5, 6, 7, 8, 9, 10, 67}\n",
            "{3, 67, 5, 6, 7, 8, 9, 4, 10}\n",
            "[67, 3, 5, 6, 7, 8, 9, 4]\n",
            "set()\n"
          ]
        }
      ]
    },
    {
      "cell_type": "code",
      "execution_count": null,
      "metadata": {
        "colab": {
          "base_uri": "https://localhost:8080/"
        },
        "id": "0tCgyIsDszH-",
        "outputId": "9f0e84af-dead-43c4-b7e4-463073aa889a"
      },
      "outputs": [
        {
          "name": "stdout",
          "output_type": "stream",
          "text": [
            "6\n",
            "7\n",
            "not\n",
            "Enter your name:minu\n",
            "your name is minu\n",
            "your name is minu\n",
            "sum is 13\n"
          ]
        }
      ],
      "source": [
        "#condition\n",
        "number=int(input())\n",
        "check=int(input())\n",
        "if number==0:\n",
        "    print(\"minhaj\")\n",
        "    if check==0:\n",
        "        print(\"check\")\n",
        "    else:\n",
        "       print(\"not check\")\n",
        "elif number==1:\n",
        "   print(\"elif block\")\n",
        "else:\n",
        "  print(\"not\")\n",
        "\n",
        "\n",
        "#formate output\n",
        "\n",
        "name=input(\"Enter your name:\")\n",
        "print(\"your name is {}\".format(name))\n",
        "print(f\"your name is {name}\")\n",
        "print(f\"sum is {number+check}\")"
      ]
    },
    {
      "cell_type": "code",
      "execution_count": null,
      "metadata": {
        "id": "3MVITanwxCgc"
      },
      "outputs": [],
      "source": [
        "#loop\n",
        "while 0:\n",
        "    print(\"minhaj\")\n"
      ]
    },
    {
      "cell_type": "code",
      "execution_count": null,
      "metadata": {
        "colab": {
          "base_uri": "https://localhost:8080/"
        },
        "id": "dgxVc6z6i96s",
        "outputId": "2f99d7b1-b357-41f3-f31b-7e206de11f1f"
      },
      "outputs": [
        {
          "name": "stdout",
          "output_type": "stream",
          "text": [
            "13 60.7 (1+3j) True <class 'complex'> None minhaj ['laptop', 'mobile', 'headphone'] (1, 2, 3) {1, 2, 3} frozenset({1, 2, 3, 4, 5}) {'name': 'minhaj', 13: 'roll'}\n"
          ]
        }
      ],
      "source": [
        "# variable\n",
        "roll=13\n",
        "weight=60.7\n",
        "comlex_var=1+3j\n",
        "_is_rainning=True\n",
        "check_type=type(comlex_var)\n",
        "married=None\n",
        "name=\"minhaj\"\n",
        "property=[\"laptop\",\"mobile\",\"headphone\"] #list\n",
        "tuple_list=(1,2,3)\n",
        "set_val={1,2,1,3} # for finding uniqe value\n",
        "frozenset_val=frozenset([1,2,3,3,4,5])\n",
        "map_val={\n",
        "    'name':'minhaj',\n",
        "    13:\"roll\"\n",
        "} #its called dictionary\n",
        "\n",
        "print(roll, weight, comlex_var, _is_rainning, check_type, married, name, property, tuple_list, set_val, frozenset_val, map_val)"
      ]
    },
    {
      "cell_type": "code",
      "execution_count": null,
      "metadata": {
        "colab": {
          "base_uri": "https://localhost:8080/"
        },
        "id": "1d3AF9bhmpx4",
        "outputId": "a4b667c3-bb82-4301-9b8c-c1abaa21c299"
      },
      "outputs": [
        {
          "name": "stdout",
          "output_type": "stream",
          "text": [
            "True\n",
            "False\n",
            "True\n",
            "True\n",
            "False\n"
          ]
        }
      ],
      "source": [
        "# operators\n",
        "\n",
        "#arithmetic\n",
        "result= 1+3*3\n",
        "print(result)\n",
        "x=0\n",
        "y=2\n",
        "print(x/y)\n",
        "print(x//y) #floor division\n",
        "\n",
        "#compare\n",
        "print(x==y)\n",
        "print(x!=y)\n",
        "print(x>y)\n",
        "print(x<y)\n",
        "print(x>=y)\n",
        "print(x<=y)\n",
        "\n",
        "#logical\n",
        "# and check first falsy value if found then return that value else return last value\n",
        "# or check first truthy value if found then return that value else return last value\n",
        "# not return opposite value\n",
        "print(x and y)\n",
        "print(x or y)\n",
        "print(not y)\n",
        "\n",
        "#assign\n",
        "x+=y\n",
        "print(x)\n",
        "x-=y\n",
        "print(x)\n",
        "x*=y\n",
        "print(x)\n",
        "x/=y\n",
        "print(x)\n",
        "x//=y\n",
        "print(x)\n",
        "\n",
        "#identity\n",
        "# it check both are point same obj or not\n",
        "a=[1,2,3]\n",
        "b=[1,2,3]\n",
        "print(a==b)\n",
        "print(a is b)\n",
        "print(a is not b)\n",
        "\n",
        "#membership\n",
        "print(2 in a)\n",
        "print(3 not in b)"
      ]
    }
  ],
  "metadata": {
    "colab": {
      "provenance": [],
      "authorship_tag": "ABX9TyNqSBvK21qjMhGey97GBYxf",
      "include_colab_link": true
    },
    "kernelspec": {
      "display_name": "Python 3",
      "name": "python3"
    },
    "language_info": {
      "name": "python"
    }
  },
  "nbformat": 4,
  "nbformat_minor": 0
}