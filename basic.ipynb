{
  "nbformat": 4,
  "nbformat_minor": 0,
  "metadata": {
    "colab": {
      "provenance": [],
      "authorship_tag": "ABX9TyPv6zE5cx/8V1BXHHvE7S0S",
      "include_colab_link": true
    },
    "kernelspec": {
      "name": "python3",
      "display_name": "Python 3"
    },
    "language_info": {
      "name": "python"
    }
  },
  "cells": [
    {
      "cell_type": "markdown",
      "metadata": {
        "id": "view-in-github",
        "colab_type": "text"
      },
      "source": [
        "<a href=\"https://colab.research.google.com/github/tapader13/python-practice-for-academy/blob/main/basic.ipynb\" target=\"_parent\"><img src=\"https://colab.research.google.com/assets/colab-badge.svg\" alt=\"Open In Colab\"/></a>"
      ]
    },
    {
      "cell_type": "code",
      "execution_count": null,
      "metadata": {
        "colab": {
          "base_uri": "https://localhost:8080/"
        },
        "id": "VJNyKEpT2XBr",
        "outputId": "326fe92d-8ca5-427e-e7ca-c9bbb9742859"
      },
      "outputs": [
        {
          "output_type": "stream",
          "name": "stdout",
          "text": [
            "minhaj\n"
          ]
        }
      ],
      "source": [
        "print(\"minhaj\")"
      ]
    },
    {
      "cell_type": "code",
      "source": [
        "print(1);\n",
        "print(2);"
      ],
      "metadata": {
        "colab": {
          "base_uri": "https://localhost:8080/"
        },
        "id": "0EadBcFM6l6w",
        "outputId": "faef5ac5-8c58-49ba-c225-285e70ca748c"
      },
      "execution_count": null,
      "outputs": [
        {
          "output_type": "stream",
          "name": "stdout",
          "text": [
            "2\n"
          ]
        }
      ]
    },
    {
      "cell_type": "code",
      "source": [
        "name=\"minhaj\"\n",
        "print(name)\n",
        "\n",
        "\n",
        "#comment\n",
        "\n",
        "#single line comment\n",
        "\n",
        "# hjhlkg\n",
        "# fkjgfdjkg\n",
        "\n",
        "\n",
        "\n",
        "\n"
      ],
      "metadata": {
        "colab": {
          "base_uri": "https://localhost:8080/",
          "height": 53
        },
        "id": "wGgIlkOfe9ds",
        "outputId": "f5039765-1056-408a-fb11-a804d1d47526"
      },
      "execution_count": null,
      "outputs": [
        {
          "output_type": "stream",
          "name": "stdout",
          "text": [
            "minhaj\n"
          ]
        },
        {
          "output_type": "execute_result",
          "data": {
            "text/plain": [
              "'\\ndouble line comment\\n'"
            ],
            "application/vnd.google.colaboratory.intrinsic+json": {
              "type": "string"
            }
          },
          "metadata": {},
          "execution_count": 9
        }
      ]
    },
    {
      "cell_type": "code",
      "source": [
        "#condition\n",
        "number=int(input())\n",
        "check=int(input())\n",
        "if number==0:\n",
        "    print(\"minhaj\")\n",
        "    if check==0:\n",
        "        print(\"check\")\n",
        "    else:\n",
        "       print(\"not check\")\n",
        "elif number==1:\n",
        "   print(\"elif block\")\n",
        "else:\n",
        "  print(\"not\")\n",
        "\n",
        "\n",
        "#formate output\n",
        "\n",
        "name=input(\"Enter your name:\")\n",
        "print(\"your name is {}\".format(name))\n",
        "print(f\"your name is {name}\")\n",
        "print(f\"sum is {number+check}\")"
      ],
      "metadata": {
        "colab": {
          "base_uri": "https://localhost:8080/"
        },
        "id": "0tCgyIsDszH-",
        "outputId": "9f0e84af-dead-43c4-b7e4-463073aa889a"
      },
      "execution_count": null,
      "outputs": [
        {
          "output_type": "stream",
          "name": "stdout",
          "text": [
            "6\n",
            "7\n",
            "not\n",
            "Enter your name:minu\n",
            "your name is minu\n",
            "your name is minu\n",
            "sum is 13\n"
          ]
        }
      ]
    },
    {
      "cell_type": "code",
      "source": [
        "#loop\n",
        "i=0\n",
        "while i<len(list(range(5))):\n",
        "    print(\"minhaj\")\n",
        "    i+=1\n",
        "\n",
        "num=[1,2,3,4,5]\n",
        "for i in reversed(num):\n",
        "  print(\"range {}\".format(i))\n",
        "print(num)\n",
        "for i in num[::-1]:\n",
        "  print(\"range {}\".format(i))\n",
        "print(num)\n",
        "\n",
        "\n",
        "for i in range(1,10,1):\n",
        "  for j in range(1,i+1):\n",
        "    print(\"i={},j={}\".format(i,j))\n",
        "\n",
        "\n",
        "\n",
        "\n"
      ],
      "metadata": {
        "id": "3MVITanwxCgc",
        "colab": {
          "base_uri": "https://localhost:8080/"
        },
        "outputId": "9f27af98-139b-4813-88b1-4cb2338a0859"
      },
      "execution_count": 31,
      "outputs": [
        {
          "output_type": "stream",
          "name": "stdout",
          "text": [
            "i=1,j=1\n",
            "i=2,j=1\n",
            "i=2,j=2\n",
            "i=3,j=1\n",
            "i=3,j=2\n",
            "i=3,j=3\n",
            "i=4,j=1\n",
            "i=4,j=2\n",
            "i=4,j=3\n",
            "i=4,j=4\n",
            "i=5,j=1\n",
            "i=5,j=2\n",
            "i=5,j=3\n",
            "i=5,j=4\n",
            "i=5,j=5\n",
            "i=6,j=1\n",
            "i=6,j=2\n",
            "i=6,j=3\n",
            "i=6,j=4\n",
            "i=6,j=5\n",
            "i=6,j=6\n",
            "i=7,j=1\n",
            "i=7,j=2\n",
            "i=7,j=3\n",
            "i=7,j=4\n",
            "i=7,j=5\n",
            "i=7,j=6\n",
            "i=7,j=7\n",
            "i=8,j=1\n",
            "i=8,j=2\n",
            "i=8,j=3\n",
            "i=8,j=4\n",
            "i=8,j=5\n",
            "i=8,j=6\n",
            "i=8,j=7\n",
            "i=8,j=8\n",
            "i=9,j=1\n",
            "i=9,j=2\n",
            "i=9,j=3\n",
            "i=9,j=4\n",
            "i=9,j=5\n",
            "i=9,j=6\n",
            "i=9,j=7\n",
            "i=9,j=8\n",
            "i=9,j=9\n"
          ]
        }
      ]
    },
    {
      "cell_type": "code",
      "source": [
        " #break\n",
        " uni=0\n",
        " while uni<5:\n",
        "    if uni==3:\n",
        "        break\n",
        "    print(uni)\n",
        "    uni+=1"
      ],
      "metadata": {
        "id": "j27zLKW_2c1f",
        "outputId": "ec5b406c-2bc2-4b3e-e483-5ec3e94af875",
        "colab": {
          "base_uri": "https://localhost:8080/"
        }
      },
      "execution_count": 32,
      "outputs": [
        {
          "output_type": "stream",
          "name": "stdout",
          "text": [
            "0\n",
            "1\n",
            "2\n"
          ]
        }
      ]
    },
    {
      "cell_type": "code",
      "source": [
        "# variable\n",
        "roll=13\n",
        "weight=60.7\n",
        "comlex_var=1+3j\n",
        "_is_rainning=True\n",
        "check_type=type(comlex_var)\n",
        "married=None\n",
        "name=\"minhaj\"\n",
        "property=[\"laptop\",\"mobile\",\"headphone\"] #list\n",
        "tuple_list=(1,2,3)\n",
        "set_val={1,2,1,3} # for finding uniqe value\n",
        "frozenset_val=frozenset([1,2,3,3,4,5])\n",
        "map_val={\n",
        "    'name':'minhaj',\n",
        "    13:\"roll\"\n",
        "} #its called dictionary\n",
        "\n",
        "print(roll, weight, comlex_var, _is_rainning, check_type, married, name, property, tuple_list, set_val, frozenset_val, map_val)"
      ],
      "metadata": {
        "colab": {
          "base_uri": "https://localhost:8080/"
        },
        "id": "dgxVc6z6i96s",
        "outputId": "2f99d7b1-b357-41f3-f31b-7e206de11f1f"
      },
      "execution_count": null,
      "outputs": [
        {
          "output_type": "stream",
          "name": "stdout",
          "text": [
            "13 60.7 (1+3j) True <class 'complex'> None minhaj ['laptop', 'mobile', 'headphone'] (1, 2, 3) {1, 2, 3} frozenset({1, 2, 3, 4, 5}) {'name': 'minhaj', 13: 'roll'}\n"
          ]
        }
      ]
    },
    {
      "cell_type": "code",
      "source": [
        "# operators\n",
        "\n",
        "#arithmetic\n",
        "result= 1+3*3\n",
        "print(result)\n",
        "x=0\n",
        "y=2\n",
        "print(x/y)\n",
        "print(x//y) #floor division\n",
        "\n",
        "#compare\n",
        "print(x==y)\n",
        "print(x!=y)\n",
        "print(x>y)\n",
        "print(x<y)\n",
        "print(x>=y)\n",
        "print(x<=y)\n",
        "\n",
        "#logical\n",
        "# and check first falsy value if found then return that value else return last value\n",
        "# or check first truthy value if found then return that value else return last value\n",
        "# not return opposite value\n",
        "print(x and y)\n",
        "print(x or y)\n",
        "print(not y)\n",
        "\n",
        "#assign\n",
        "x+=y\n",
        "print(x)\n",
        "x-=y\n",
        "print(x)\n",
        "x*=y\n",
        "print(x)\n",
        "x/=y\n",
        "print(x)\n",
        "x//=y\n",
        "print(x)\n",
        "\n",
        "#identity\n",
        "# it check both are point same obj or not\n",
        "a=[1,2,3]\n",
        "b=[1,2,3]\n",
        "print(a==b)\n",
        "print(a is b)\n",
        "print(a is not b)\n",
        "\n",
        "#membership\n",
        "print(2 in a)\n",
        "print(3 not in b)"
      ],
      "metadata": {
        "colab": {
          "base_uri": "https://localhost:8080/"
        },
        "id": "1d3AF9bhmpx4",
        "outputId": "a4b667c3-bb82-4301-9b8c-c1abaa21c299"
      },
      "execution_count": null,
      "outputs": [
        {
          "output_type": "stream",
          "name": "stdout",
          "text": [
            "True\n",
            "False\n",
            "True\n",
            "True\n",
            "False\n"
          ]
        }
      ]
    }
  ]
}