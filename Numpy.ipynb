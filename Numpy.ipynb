{
  "nbformat": 4,
  "nbformat_minor": 0,
  "metadata": {
    "colab": {
      "provenance": [],
      "authorship_tag": "ABX9TyNE79idLVVH9BOFCdZu42u3",
      "include_colab_link": true
    },
    "kernelspec": {
      "name": "python3",
      "display_name": "Python 3"
    },
    "language_info": {
      "name": "python"
    }
  },
  "cells": [
    {
      "cell_type": "markdown",
      "metadata": {
        "id": "view-in-github",
        "colab_type": "text"
      },
      "source": [
        "<a href=\"https://colab.research.google.com/github/tapader13/python-practice-for-academy/blob/main/Numpy.ipynb\" target=\"_parent\"><img src=\"https://colab.research.google.com/assets/colab-badge.svg\" alt=\"Open In Colab\"/></a>"
      ]
    },
    {
      "cell_type": "code",
      "execution_count": null,
      "metadata": {
        "colab": {
          "base_uri": "https://localhost:8080/"
        },
        "id": "TVDeWZdNx_qe",
        "outputId": "46dc9587-9234-4cbf-e3c7-9c60f0affa44",
        "collapsed": true
      },
      "outputs": [
        {
          "output_type": "stream",
          "name": "stdout",
          "text": [
            "[[[1 2 2 2]\n",
            "  [1 2 2 1]\n",
            "  [1 1 2 1]]\n",
            "\n",
            " [[1 1 1 1]\n",
            "  [2 2 1 2]\n",
            "  [1 2 2 2]]] <class 'numpy.ndarray'> 3\n"
          ]
        }
      ],
      "source": [
        "import numpy as np\n",
        "#tuples\n",
        "a1=np.array((1,2,3))\n",
        "print(a1)\n",
        "\n",
        "#list\n",
        "a2=np.array([1,2,3])\n",
        "print(a2)\n",
        "\n",
        "#dimensonal\n",
        "#0\n",
        "a3=np.array(1)\n",
        "print(a3,a3.ndim)\n",
        "\n",
        "#1\n",
        "a4=np.array([1,2,3])\n",
        "print(a4,a4.ndim)\n",
        "\n",
        "#2\n",
        "a5=np.array([[1,2,3],[4,5,6]])\n",
        "print(a5,a5.ndim)\n",
        "\n",
        "#3\n",
        "a6=np.array([[[1,2,3],[4,5,6]],[[7,8,9],[10,11,12]]])\n",
        "print(a6,a6.ndim)\n",
        "\n",
        "#0 initalize\n",
        "a7 = np.zeros([3,4])\n",
        "print(a7, a7.ndim,type(a7))\n",
        "\n",
        "#1 initalize\n",
        "a8 = np.ones([3,4])\n",
        "print(a8, a8.ndim,type(a8))\n",
        "\n",
        "#specific value initialize\n",
        "a9=np.full((3,5),9)\n",
        "print(a9,a9.ndim)\n",
        "\n",
        "#identity matrix\n",
        "a10=np.eye(3)\n",
        "print(a10,a10.ndim)\n",
        "\n",
        "#diagonal value\n",
        "a11=np.diag([3,4,5])\n",
        "print(a11, a11.ndim)\n",
        "\n",
        "#random value\n",
        "a12=np.random.rand(2,3)\n",
        "print(a12,type(a12),a12.ndim)\n",
        "a13 =np.random.randint(1,3,(2,4))\n",
        "# a13 =np.random.randint(1,3,(2,3,4)) for 3d list\n",
        "print(a13,type(a13),a13.ndim)\n"
      ]
    },
    {
      "cell_type": "code",
      "source": [
        "import numpy as np\n",
        "#shape\n",
        "a1=np.array([1,2,3])\n",
        "print(a1.shape)\n",
        "a2=np.array([[1,2,3],[4,5,6]])\n",
        "print(a2.shape)\n",
        "a3=np.array([[[1,2,3],[4,5,6]],[[7,8,9],[10,11,12]]])\n",
        "print(a3.shape)\n",
        "\n",
        "#reshape\n",
        "a4=np.array([1,2,3,4,5,6])\n",
        "print(a4.reshape(3,2))\n",
        "a5=np.array([[1,2,3],[4,5,6]])\n",
        "print(a5.reshape(3,2))\n",
        "print(a5.reshape(1,-1))\n",
        "print(a5.reshape(-1))\n",
        "\n",
        "#for in loop in array\n",
        "#1d\n",
        "a6=np.array([1,2,3,4,5,6])\n",
        "for i in a6:\n",
        "    print(i)\n",
        "\n",
        "#2d\n",
        "a7=np.array([[1,2,3],[4,5,6]])\n",
        "for row in a7:\n",
        "   for col in row:\n",
        "      print(col,end=\" \")\n",
        "   print()\n",
        "\n",
        "for row in range(len(a7)):\n",
        "   for col in range(len(a7[0])):\n",
        "      print(a7[row][col],end=\" \")\n",
        "   print()\n",
        "#3d\n",
        "a8=np.array([[[1,2,3],[4,5,6]],[[7,8,9],[10,11,12]]])\n",
        "for i in a8:\n",
        "    for j in i:\n",
        "        for k in j:\n",
        "            print(k,end=\" \")\n",
        "        print()\n",
        "    print()\n",
        "\n",
        "for x in range(len(a8)):\n",
        "    for y in range(len(a8[0])):\n",
        "        for z in range(len(a8[0][0])):\n",
        "            print(a8[x][y][z])\n",
        "\n",
        "for val in np.nditer(a8):\n",
        "    print(val)\n",
        "\n",
        "for x in range(a8.shape[0]):\n",
        "    for y in range(a8.shape[1]):\n",
        "        for z in range(a8.shape[2]):\n",
        "            print(a8[x][y][z])"
      ],
      "metadata": {
        "colab": {
          "base_uri": "https://localhost:8080/"
        },
        "id": "UIJdHM7avjgU",
        "outputId": "69133786-6cfc-4081-8c12-582298042079",
        "collapsed": true
      },
      "execution_count": null,
      "outputs": [
        {
          "output_type": "stream",
          "name": "stdout",
          "text": [
            "1 2 3 \n",
            "4 5 6 \n",
            "\n",
            "7 8 9 \n",
            "10 11 12 \n",
            "\n",
            "1\n",
            "2\n",
            "3\n",
            "4\n",
            "5\n",
            "6\n",
            "7\n",
            "8\n",
            "9\n",
            "10\n",
            "11\n",
            "12\n",
            "1\n",
            "2\n",
            "3\n",
            "4\n",
            "5\n",
            "6\n",
            "7\n",
            "8\n",
            "9\n",
            "10\n",
            "11\n",
            "12\n",
            "1\n",
            "2\n",
            "3\n",
            "4\n",
            "5\n",
            "6\n",
            "7\n",
            "8\n",
            "9\n",
            "10\n",
            "11\n",
            "12\n"
          ]
        }
      ]
    },
    {
      "cell_type": "code",
      "source": [
        "#join\n",
        "a1=np.array([1,2,3])\n",
        "a2=np.array([4,5,6])\n",
        "# a3=np.concatenate((a1,a2))\n",
        "a3=np.concatenate([a1,a2])\n",
        "print(a3)\n",
        "\n",
        "#stack\n",
        "a4=np.stack((a1,a2))\n",
        "print(a4)\n",
        "a5=np.stack([a1,a2],axis=1)\n",
        "print(a5)\n",
        "a6=np.vstack([a1,a2])\n",
        "print(a6)\n",
        "a7=np.hstack([a1,a2])\n",
        "print(a7)\n",
        "d1=np.array([[1,2,3],[4,5,6]])\n",
        "d2=np.array([[7,8,9],[10,11,12]])\n",
        "a8=np.dstack([d1,d2])\n",
        "print(a8)\n",
        "a9=np.column_stack([a1,a2])\n",
        "print(a9)\n",
        "\n",
        "#for 2d, column_stack reamin 2d just increase column but in stack with axis 1 add 1 dim become 3d\n",
        "b1 = np.array([[1,2],[3,4]])\n",
        "b2 = np.array([[5,6],[7,8]])\n",
        "\n",
        "print(np.column_stack([b1,b2]))\n",
        "# Output shape: (2,4) → just columns concatenated\n",
        "\n",
        "print(np.stack([b1,b2], axis=1))\n",
        "# Output shape: (2,2,2) → new axis added\n",
        "\n",
        "#split\n",
        "a10=np.array([1,2,3,4,5,6])\n",
        "# a11=np.array_split(a10,3)\n",
        "# a11=np.array_split(a10,5)\n",
        "a11=np.split(a10,2)\n",
        "print(a11)\n",
        "print(a11[0])\n",
        "\n",
        "# axis=0 → splits along rows if devided then work otherwise error\n",
        "# axis=1 → splits along columns\n",
        "\n",
        "a12=np.array([[1,2,3],[4,5,6]])\n",
        "# a13=np.split(a12,2)\n",
        "# a13=np.split(a12,4) error cause 4 is not devided to row 2\n",
        "a13=np.array_split(a12,3)\n",
        "print(a13)\n",
        "print(a13[0])\n",
        "\n",
        "a14=np.array([[1,2,3],[4,5,6],[7,8,9]])\n",
        "a15=np.array_split(a14,4) # first res=row//number then rem=row%number then all res+rem row\n",
        "print(a15)\n",
        "print(a15[0])\n"
      ],
      "metadata": {
        "colab": {
          "base_uri": "https://localhost:8080/"
        },
        "id": "DGCyChWO2T2T",
        "outputId": "609278d3-bc6b-48d5-a22b-57ef934215ff",
        "collapsed": true
      },
      "execution_count": null,
      "outputs": [
        {
          "output_type": "stream",
          "name": "stdout",
          "text": [
            "[array([[1, 2, 3]]), array([[4, 5, 6]]), array([[7, 8, 9]]), array([], shape=(0, 3), dtype=int64)]\n",
            "[[1 2 3]]\n"
          ]
        }
      ]
    },
    {
      "cell_type": "code",
      "source": [
        "#data type\n",
        "a1=np.array([1,2,3])\n",
        "print(a1.dtype)\n",
        "a2=np.array([1.1,2.2,3.3])\n",
        "print(a2.dtype)\n",
        "a3=np.array([\"minhaj\",\"miftah\",\"mizan\",\"marzan\"])\n",
        "print(a3.dtype)\n",
        "a4=np.array([True,False,True])\n",
        "print(a4.dtype)\n",
        "a5=np.array([1+2j,2+3j,3+4j])\n",
        "print(a5.dtype)\n",
        "a6=np.array([1,2,\"mnihaj\",True])\n",
        "print(a6.dtype) #U cause numpy need 1 datatype so it upcasting\n",
        "\n",
        "#manually set up datatype\n",
        "a7=np.array([1,2,3],dtype=float)\n",
        "print(a7,a7.dtype)\n",
        "a8=np.array([1,2,3],dtype=str)\n",
        "print(a8,a8.dtype)\n",
        "a9=np.array([1,2,3],dtype=complex)\n",
        "print(a9,a9.dtype)\n",
        "a10=np.array([1,2,3],dtype=bool)\n",
        "print(a10,a10.dtype)\n",
        "a11=np.array([\"1\",\"2\",\"3\"],dtype=int)\n",
        "print(a11,a11.dtype)\n",
        "\n",
        "\n",
        "#convert list\n",
        "a12=np.array([1,2,3])\n",
        "print(a12,a12.dtype)\n",
        "a13=a12.astype(float)\n",
        "print(a13,a13.dtype)\n",
        "a14=a12.astype(str)\n",
        "print(a14,a14.dtype)"
      ],
      "metadata": {
        "colab": {
          "base_uri": "https://localhost:8080/"
        },
        "id": "nP6DtCMv-t-G",
        "outputId": "f0fc1a3d-b003-42fe-c73f-fa16acbfdafb",
        "collapsed": true
      },
      "execution_count": null,
      "outputs": [
        {
          "output_type": "stream",
          "name": "stdout",
          "text": [
            "['1' '2' '3'] <U21\n"
          ]
        }
      ]
    },
    {
      "cell_type": "code",
      "source": [
        "#array access\n",
        "a1=np.array([1,2,3])\n",
        "print(a1[0])\n",
        "print(a1[-1])\n",
        "a2=np.array([[1,2,3],[4,5,6]])\n",
        "print(a2[0,0])\n",
        "print(a2[0,-1])\n",
        "a3=np.array([[[1,2,3],[4,5,6]],[[7,8,9],[10,11,12]]])\n",
        "print(a3[0,0,0])\n",
        "print(a3[0,1,-1])"
      ],
      "metadata": {
        "id": "ZZgCn0JHHot7",
        "colab": {
          "base_uri": "https://localhost:8080/"
        },
        "outputId": "9e095a35-54cf-478f-c468-d40e1622b7a5",
        "collapsed": true
      },
      "execution_count": null,
      "outputs": [
        {
          "output_type": "stream",
          "name": "stdout",
          "text": [
            "1\n",
            "3\n",
            "1\n",
            "3\n",
            "1\n",
            "6\n"
          ]
        }
      ]
    },
    {
      "cell_type": "code",
      "source": [
        "#search\n",
        "import numpy as np\n",
        "a1=np.array([1,2,3,4,5,4,4])\n",
        "print(np.where(a1==4))\n",
        "print(np.where(a1%2==0))\n",
        "\n",
        "#sort\n",
        "print(np.sort(a1))\n",
        "a2=np.array([[3,7,1],[6,2,4]])\n",
        "print(np.sort(a2))\n",
        "\n",
        "#min-max\n",
        "print(np.min(a1))\n",
        "print(np.max(a1))\n",
        "print(np.argmax(a1))\n",
        "print(np.argmin(a1))\n",
        "print(np.argsort(a1))\n",
        "\n",
        "print(np.min(a2,axis=0)) #vertilcal min\n",
        "print(np.max(a2,axis=0))\n",
        "print(np.argmax(a2,axis=0))\n",
        "\n",
        "\n",
        "print(np.min(a2,axis=1)) #horizontal min\n",
        "print(np.max(a2,axis=1))\n",
        "print(np.argmax(a2,axis=1)) #retrun index of horizontal max\n"
      ],
      "metadata": {
        "colab": {
          "base_uri": "https://localhost:8080/"
        },
        "collapsed": true,
        "id": "RwbJNJR3Nfxc",
        "outputId": "f832a7f4-d26b-46a2-e1c8-144a89f9f819"
      },
      "execution_count": null,
      "outputs": [
        {
          "output_type": "stream",
          "name": "stdout",
          "text": [
            "(array([3, 5, 6]),)\n",
            "(array([1, 3, 5, 6]),)\n",
            "[1 2 3 4 4 4 5]\n",
            "[[1 3 7]\n",
            " [2 4 6]]\n",
            "1\n",
            "5\n",
            "4\n",
            "0\n",
            "[0 1 2 3 5 6 4]\n",
            "[3 2 1]\n",
            "[6 7 4]\n",
            "[1 0 1]\n",
            "[1 2]\n",
            "[7 6]\n",
            "[1 0]\n"
          ]
        }
      ]
    },
    {
      "cell_type": "code",
      "source": [
        "#intersection\n",
        "a1=np.array([1,2,3,4,5])\n",
        "a2=np.array([3,4,5,6,7])\n",
        "print(np.intersect1d(a1,a2))\n",
        "\n",
        "a3=np.array([[1,3,2],[4,5,6]])\n",
        "a4=np.array([[3,4,5],[7,6,8]])\n",
        "print(np.intersect1d(a3,a4)) #intersection always give sorted result\n",
        "\n",
        "print(np.union1d(a3,a4))\n",
        "\n",
        "print(np.setdiff1d(a1,a2))\n",
        "\n",
        "print(np.sum([a1,a2]))\n",
        "print(np.sum([a1,a2],axis=0))\n",
        "print(np.sum([a1,a2],axis=1))\n",
        "\n",
        "print(np.subtract(a1,a2))\n",
        "print(np.multiply(a1,a2))\n",
        "print(np.divide(a1,a2))\n",
        "\n",
        "\n",
        "print(np.sum([a3,a4]))\n",
        "print(np.sum([a3,a4],axis=0))\n",
        "print(np.sum([a3,a4],axis=1))\n",
        "\n",
        "print(np.subtract(a3,a4))\n",
        "print(np.multiply(a3,a4))\n",
        "print(np.divide(a3,a4))"
      ],
      "metadata": {
        "colab": {
          "base_uri": "https://localhost:8080/"
        },
        "id": "iEmZDljoVZF8",
        "outputId": "47efc2e3-65d6-4772-d026-8c42dcc74d7f"
      },
      "execution_count": null,
      "outputs": [
        {
          "output_type": "stream",
          "name": "stdout",
          "text": [
            "54\n",
            "[[ 4  7  7]\n",
            " [11 11 14]]\n",
            "[[ 5  8  8]\n",
            " [10 10 13]]\n",
            "[[-2 -1 -3]\n",
            " [-3 -1 -2]]\n",
            "[[ 3 12 10]\n",
            " [28 30 48]]\n",
            "[[0.33333333 0.75       0.4       ]\n",
            " [0.57142857 0.83333333 0.75      ]]\n"
          ]
        }
      ]
    },
    {
      "cell_type": "code",
      "source": [
        "#scaller operation\n",
        "import numpy as np\n",
        "a1=np.array([1,2,3])\n",
        "print(a1*2)\n",
        "print(a1/2)\n",
        "print(a1+2)\n",
        "print(a1-2)\n",
        "\n",
        "#statistical operation\n",
        "a2=np.array([1,2,3,4,5])\n",
        "print(np.mean(a2))\n",
        "print(np.median(a2))\n",
        "print(np.std(a2))\n",
        "print(np.var(a2))\n",
        "print(np.sqrt(np.var(a2)))\n",
        "\n",
        "#random in numpy\n",
        "r1=np.random.randint(5)\n",
        "print(r1)\n",
        "r2=np.random.randint(5,size=(2,2))\n",
        "print(r2)\n",
        "r3=np.random.choice([1,2,3,4])\n",
        "print(r3)\n",
        "\n",
        "#log\n",
        "arr1=np.array([1,2,3,4,5])\n",
        "print(np.log2(arr1))\n",
        "print(np.log10(arr1))\n",
        "\n",
        "#lcm & gcd/hcm\n",
        "print(np.lcm(4,8))\n",
        "print(np.gcd(4,8))"
      ],
      "metadata": {
        "colab": {
          "base_uri": "https://localhost:8080/"
        },
        "id": "GhYEpHgqsB3Y",
        "outputId": "92eb7f0e-2a49-4318-c7ed-54f4d641928f"
      },
      "execution_count": 16,
      "outputs": [
        {
          "output_type": "stream",
          "name": "stdout",
          "text": [
            "[2 4 6]\n",
            "[0.5 1.  1.5]\n",
            "[3 4 5]\n",
            "[-1  0  1]\n",
            "3.0\n",
            "3.0\n",
            "1.4142135623730951\n",
            "2.0\n",
            "1.4142135623730951\n",
            "2\n",
            "[[1 0]\n",
            " [4 3]]\n",
            "1\n",
            "[0.         1.         1.5849625  2.         2.32192809]\n",
            "[0.         0.30103    0.47712125 0.60205999 0.69897   ]\n",
            "8\n",
            "4\n"
          ]
        }
      ]
    },
    {
      "cell_type": "code",
      "source": [
        "#array slice\n",
        "a1=np.array([1,2,3,4,5])\n",
        "print(a1[2:4])\n",
        "print(a1[:4])\n",
        "print(a1[2:]) #till last\n",
        "print(a1[2::2]) #after evert 2 step\n",
        "\n",
        "a2=np.array([[1,2,3,4,5],[6,7,8,9,10]])\n",
        "print(a2[0,1:4])\n",
        "print(a2[0:2,1:4])\n",
        "\n",
        "a3 = np.array([\n",
        "    [[1, 2, 3], [4, 5, 6]],\n",
        "    [[7, 8, 9], [10, 11, 12]]\n",
        "])\n",
        "print(a3[0,1,2:])\n",
        "print(a3[0,0:2,2:])\n",
        "print(a3[0:2,0:2,2:])"
      ],
      "metadata": {
        "colab": {
          "base_uri": "https://localhost:8080/"
        },
        "id": "raERnPPLKG7Z",
        "outputId": "1bde97c8-0aa4-4a26-aa78-7bb5d57bdfe0",
        "collapsed": true
      },
      "execution_count": null,
      "outputs": [
        {
          "output_type": "stream",
          "name": "stdout",
          "text": [
            "[3 4]\n",
            "[1 2 3 4]\n",
            "[3 4 5]\n",
            "[3 5]\n",
            "[2 3 4]\n",
            "[[2 3 4]\n",
            " [7 8 9]]\n",
            "[6]\n",
            "[[3]\n",
            " [6]]\n",
            "[[[ 3]\n",
            "  [ 6]]\n",
            "\n",
            " [[ 9]\n",
            "  [12]]]\n"
          ]
        }
      ]
    }
  ]
}