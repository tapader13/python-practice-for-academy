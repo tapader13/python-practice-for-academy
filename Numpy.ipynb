{
  "nbformat": 4,
  "nbformat_minor": 0,
  "metadata": {
    "colab": {
      "provenance": [],
      "authorship_tag": "ABX9TyORTXs/SohuVhnWrSHq1nb8",
      "include_colab_link": true
    },
    "kernelspec": {
      "name": "python3",
      "display_name": "Python 3"
    },
    "language_info": {
      "name": "python"
    }
  },
  "cells": [
    {
      "cell_type": "markdown",
      "metadata": {
        "id": "view-in-github",
        "colab_type": "text"
      },
      "source": [
        "<a href=\"https://colab.research.google.com/github/tapader13/python-practice-for-academy/blob/main/Numpy.ipynb\" target=\"_parent\"><img src=\"https://colab.research.google.com/assets/colab-badge.svg\" alt=\"Open In Colab\"/></a>"
      ]
    },
    {
      "cell_type": "code",
      "execution_count": null,
      "metadata": {
        "colab": {
          "base_uri": "https://localhost:8080/"
        },
        "id": "TVDeWZdNx_qe",
        "outputId": "46dc9587-9234-4cbf-e3c7-9c60f0affa44"
      },
      "outputs": [
        {
          "output_type": "stream",
          "name": "stdout",
          "text": [
            "[[[1 2 2 2]\n",
            "  [1 2 2 1]\n",
            "  [1 1 2 1]]\n",
            "\n",
            " [[1 1 1 1]\n",
            "  [2 2 1 2]\n",
            "  [1 2 2 2]]] <class 'numpy.ndarray'> 3\n"
          ]
        }
      ],
      "source": [
        "import numpy as np\n",
        "#tuples\n",
        "a1=np.array((1,2,3))\n",
        "print(a1)\n",
        "\n",
        "#list\n",
        "a2=np.array([1,2,3])\n",
        "print(a2)\n",
        "\n",
        "#dimensonal\n",
        "#0\n",
        "a3=np.array(1)\n",
        "print(a3,a3.ndim)\n",
        "\n",
        "#1\n",
        "a4=np.array([1,2,3])\n",
        "print(a4,a4.ndim)\n",
        "\n",
        "#2\n",
        "a5=np.array([[1,2,3],[4,5,6]])\n",
        "print(a5,a5.ndim)\n",
        "\n",
        "#3\n",
        "a6=np.array([[[1,2,3],[4,5,6]],[[7,8,9],[10,11,12]]])\n",
        "print(a6,a6.ndim)\n",
        "\n",
        "#0 initalize\n",
        "a7 = np.zeros([3,4])\n",
        "print(a7, a7.ndim,type(a7))\n",
        "\n",
        "#1 initalize\n",
        "a8 = np.ones([3,4])\n",
        "print(a8, a8.ndim,type(a8))\n",
        "\n",
        "#specific value initialize\n",
        "a9=np.full((3,5),9)\n",
        "print(a9,a9.ndim)\n",
        "\n",
        "#identity matrix\n",
        "a10=np.eye(3)\n",
        "print(a10,a10.ndim)\n",
        "\n",
        "#diagonal value\n",
        "a11=np.diag([3,4,5])\n",
        "print(a11, a11.ndim)\n",
        "\n",
        "#random value\n",
        "a12=np.random.rand(2,3)\n",
        "print(a12,type(a12),a12.ndim)\n",
        "a13 =np.random.randint(1,3,(2,4))\n",
        "# a13 =np.random.randint(1,3,(2,3,4)) for 3d list\n",
        "print(a13,type(a13),a13.ndim)\n"
      ]
    },
    {
      "cell_type": "code",
      "source": [
        "#data type\n",
        "a1=np.array([1,2,3])\n",
        "print(a1.dtype)\n",
        "a2=np.array([1.1,2.2,3.3])\n",
        "print(a2.dtype)\n",
        "a3=np.array([\"minhaj\",\"miftah\",\"mizan\",\"marzan\"])\n",
        "print(a3.dtype)\n",
        "a4=np.array([True,False,True])\n",
        "print(a4.dtype)\n",
        "a5=np.array([1+2j,2+3j,3+4j])\n",
        "print(a5.dtype)\n",
        "a6=np.array([1,2,\"mnihaj\",True])\n",
        "print(a6.dtype) #U cause numpy need 1 datatype so it upcasting\n",
        "\n",
        "#manually set up datatype\n",
        "a7=np.array([1,2,3],dtype=float)\n",
        "print(a7,a7.dtype)\n",
        "a8=np.array([1,2,3],dtype=str)\n",
        "print(a8,a8.dtype)\n",
        "a9=np.array([1,2,3],dtype=complex)\n",
        "print(a9,a9.dtype)\n",
        "a10=np.array([1,2,3],dtype=bool)\n",
        "print(a10,a10.dtype)\n",
        "a11=np.array([\"1\",\"2\",\"3\"],dtype=int)\n",
        "print(a11,a11.dtype)\n",
        "\n",
        "\n",
        "#convert list\n",
        "a12=np.array([1,2,3])\n",
        "print(a12,a12.dtype)\n",
        "a13=a12.astype(float)\n",
        "print(a13,a13.dtype)\n",
        "a14=a12.astype(str)\n",
        "print(a14,a14.dtype)"
      ],
      "metadata": {
        "colab": {
          "base_uri": "https://localhost:8080/"
        },
        "id": "nP6DtCMv-t-G",
        "outputId": "f0fc1a3d-b003-42fe-c73f-fa16acbfdafb"
      },
      "execution_count": 27,
      "outputs": [
        {
          "output_type": "stream",
          "name": "stdout",
          "text": [
            "['1' '2' '3'] <U21\n"
          ]
        }
      ]
    },
    {
      "cell_type": "code",
      "source": [
        "#array access\n",
        "a1=np.array([1,2,3])\n",
        "print(a1[0])\n",
        "print(a1[-1])\n",
        "a2=np.array([[1,2,3],[4,5,6]])\n",
        "print(a2[0,0])\n",
        "print(a2[0,-1])\n",
        "a3=np.array([[[1,2,3],[4,5,6]],[[7,8,9],[10,11,12]]])\n",
        "print(a3[0,0,0])\n",
        "print(a3[0,1,-1])"
      ],
      "metadata": {
        "id": "ZZgCn0JHHot7",
        "colab": {
          "base_uri": "https://localhost:8080/"
        },
        "outputId": "9e095a35-54cf-478f-c468-d40e1622b7a5"
      },
      "execution_count": 34,
      "outputs": [
        {
          "output_type": "stream",
          "name": "stdout",
          "text": [
            "1\n",
            "3\n",
            "1\n",
            "3\n",
            "1\n",
            "6\n"
          ]
        }
      ]
    },
    {
      "cell_type": "code",
      "source": [
        "#array slice\n",
        "a1=np.array([1,2,3,4,5])\n",
        "print(a1[2:4])\n",
        "print(a1[:4])\n",
        "print(a1[2:]) #till last\n",
        "print(a1[2::2]) #after evert 2 step\n",
        "\n",
        "a2=np.array([[1,2,3,4,5],[6,7,8,9,10]])\n",
        "print(a2[0,1:4])\n",
        "print(a2[0:2,1:4])\n",
        "\n",
        "a3 = np.array([\n",
        "    [[1, 2, 3], [4, 5, 6]],\n",
        "    [[7, 8, 9], [10, 11, 12]]\n",
        "])\n",
        "print(a3[0,1,2:])\n",
        "print(a3[0,0:2,2:])\n",
        "print(a3[0:2,0:2,2:])"
      ],
      "metadata": {
        "colab": {
          "base_uri": "https://localhost:8080/"
        },
        "id": "raERnPPLKG7Z",
        "outputId": "1bde97c8-0aa4-4a26-aa78-7bb5d57bdfe0"
      },
      "execution_count": 44,
      "outputs": [
        {
          "output_type": "stream",
          "name": "stdout",
          "text": [
            "[3 4]\n",
            "[1 2 3 4]\n",
            "[3 4 5]\n",
            "[3 5]\n",
            "[2 3 4]\n",
            "[[2 3 4]\n",
            " [7 8 9]]\n",
            "[6]\n",
            "[[3]\n",
            " [6]]\n",
            "[[[ 3]\n",
            "  [ 6]]\n",
            "\n",
            " [[ 9]\n",
            "  [12]]]\n"
          ]
        }
      ]
    }
  ]
}