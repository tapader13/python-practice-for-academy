{
  "nbformat": 4,
  "nbformat_minor": 0,
  "metadata": {
    "colab": {
      "provenance": [],
      "authorship_tag": "ABX9TyPknGrYOMRZxF3Hga4PqDIw",
      "include_colab_link": true
    },
    "kernelspec": {
      "name": "python3",
      "display_name": "Python 3"
    },
    "language_info": {
      "name": "python"
    }
  },
  "cells": [
    {
      "cell_type": "markdown",
      "metadata": {
        "id": "view-in-github",
        "colab_type": "text"
      },
      "source": [
        "<a href=\"https://colab.research.google.com/github/tapader13/python-practice-for-academy/blob/main/file_and_exception.ipynb\" target=\"_parent\"><img src=\"https://colab.research.google.com/assets/colab-badge.svg\" alt=\"Open In Colab\"/></a>"
      ]
    },
    {
      "cell_type": "code",
      "execution_count": 8,
      "metadata": {
        "colab": {
          "base_uri": "https://localhost:8080/"
        },
        "id": "nWLXAmbAS5KU",
        "outputId": "953c05de-f92e-45a5-dda2-d96be0c3d5a6"
      },
      "outputs": [
        {
          "output_type": "stream",
          "name": "stdout",
          "text": [
            "enter value1 = u\n",
            "its not int value\n"
          ]
        }
      ],
      "source": [
        "#exeption\n",
        "try:\n",
        "  res=int(input(\"enter value = \"))\n",
        "  res1=res/0\n",
        "  print(res1)\n",
        "except Exception as e:\n",
        "  print(\"not a number\",e)\n",
        "finally:\n",
        "  print(\"done\")\n",
        "\n",
        "#special exception\n",
        "try:\n",
        "    inp1=int(input(\"enter value1 = \"))\n",
        "    inp2=int(input(\"enter value2 = \"))\n",
        "    res=inp1/inp2\n",
        "    print(res)\n",
        "except ValueError:\n",
        "   print(\"its not int value\")\n",
        "except ZeroDivisionError:\n",
        "   print(\"not possible to devide by zero\")\n"
      ]
    },
    {
      "cell_type": "code",
      "source": [
        "\n",
        "#file\n",
        "content=open(\"file.txt\",\"w\")\n",
        "print( content.write(\"Hello, world!\\n\"))\n",
        "content.close()\n",
        "\n",
        "with open(\"file.txt\",\"r\") as content:\n",
        "  print(content.read())\n",
        "\n",
        "try:\n",
        "    with open(\"file.txt\", \"w\") as f:\n",
        "        text = input(\"Enter text for File: \")\n",
        "        f.write(text)\n",
        "    print(\"Text written successfully.\")\n",
        "except PermissionError:\n",
        "    print(\"File is not accessible.\")\n",
        "except Exception as e:\n",
        "    print(\"Some error occurred:\", e)\n",
        "finally:\n",
        "    print(\"Operation done.\")\n",
        "\n"
      ],
      "metadata": {
        "colab": {
          "base_uri": "https://localhost:8080/"
        },
        "id": "afDQh08sXROS",
        "outputId": "14ac2e91-c916-4d2a-bb45-1b734b1c8b1e"
      },
      "execution_count": 15,
      "outputs": [
        {
          "output_type": "stream",
          "name": "stdout",
          "text": [
            "Enter text for File: minu\n",
            "Text written successfully.\n",
            "Operation done.\n"
          ]
        }
      ]
    }
  ]
}