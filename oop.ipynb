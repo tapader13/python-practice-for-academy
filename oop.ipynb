{
  "nbformat": 4,
  "nbformat_minor": 0,
  "metadata": {
    "colab": {
      "provenance": [],
      "authorship_tag": "ABX9TyMozysPKd17CrqFjh2D6Voy",
      "include_colab_link": true
    },
    "kernelspec": {
      "name": "python3",
      "display_name": "Python 3"
    },
    "language_info": {
      "name": "python"
    }
  },
  "cells": [
    {
      "cell_type": "markdown",
      "metadata": {
        "id": "view-in-github",
        "colab_type": "text"
      },
      "source": [
        "<a href=\"https://colab.research.google.com/github/tapader13/python-practice-for-academy/blob/main/oop.ipynb\" target=\"_parent\"><img src=\"https://colab.research.google.com/assets/colab-badge.svg\" alt=\"Open In Colab\"/></a>"
      ]
    },
    {
      "cell_type": "code",
      "execution_count": 38,
      "metadata": {
        "id": "ZpOvlOBPW16t",
        "colab": {
          "base_uri": "https://localhost:8080/"
        },
        "outputId": "5400459c-1b5b-4c49-e996-d356c6c2cd50"
      },
      "outputs": [
        {
          "output_type": "stream",
          "name": "stdout",
          "text": [
            "animal cow sound\n"
          ]
        }
      ],
      "source": [
        "\n",
        "class StudentInfo:\n",
        "    def __init__(self, name, age, grade):\n",
        "        self.name = name\n",
        "        self.age = age\n",
        "        self.grade = grade\n",
        "    def __str__(self): #megic methods\n",
        "        return f\"name is {self.name} and age is {self.age} also grade is {self.grade}\"\n",
        "\n",
        "student1= StudentInfo(\"minhaj\",24,3.56)\n",
        "print(isinstance(student1,StudentInfo))\n",
        "print(student1.name)\n",
        "print(student1)\n",
        "\n",
        "#example\n",
        "class Trangle:\n",
        "    def __init__(self,base,height):\n",
        "        self.base=base\n",
        "        self.height=height\n",
        "    def calculate_area(self):\n",
        "       return f\"area is {.5 * self.base * self.height}\"\n",
        "t1=Trangle(10,20)\n",
        "t2=Trangle(20,30)\n",
        "print(t1.calculate_area())\n",
        "print(t2.calculate_area())\n",
        "\n",
        "#encepsulation\n",
        "class BankAccount:\n",
        "    def __init__(self,balance):\n",
        "        self.__balance=balance\n",
        "\n",
        "    def deposite(self,amount):\n",
        "      if(amount>0):\n",
        "        self.__balance+=amount\n",
        "        print(f\"{amount} deposite and new balance is {self.__balance}\")\n",
        "      else:\n",
        "        print(\"invalid amount\")\n",
        "\n",
        "    def withdraw(self,amount):\n",
        "        if self.__balance>=amount:\n",
        "            self.__balance-=amount\n",
        "        else:\n",
        "            print(\"insufficient balance\")\n",
        "\n",
        "bank1=BankAccount(1000)\n",
        "bank1.deposite(500)\n",
        "bank1.withdraw(2000)\n",
        "# print(bank1.__balance) not accesble becuse it private\n",
        "\n",
        "\n",
        "#inheritance, method overriding\n",
        "class Animal:\n",
        "    def __init__(self,name):\n",
        "        self.name=name\n",
        "    def make_sound(self):\n",
        "        print(\"animal sound\")\n",
        "class Cow(Animal):\n",
        "    def make_sound(self):\n",
        "        print(\"animal cow sound\")\n",
        "cow=Cow(\"tuktuk\")\n",
        "cow.make_sound()\n",
        "print(issubclass(Cow,Animal))\n",
        "\n",
        "#polymorpisom\n",
        "class Animal:\n",
        "    def __init__(self,name):\n",
        "        self.name=name\n",
        "    def make_sound(self):\n",
        "        print(\"animal sound\")\n",
        "class Cow(Animal):\n",
        "    def make_sound(self):\n",
        "        print(\"animal cow sound\")\n",
        "cow1=Animal(\"tuktuk\")\n",
        "cow2=Cow(\"tuktuk\")\n",
        "cow1.make_sound()\n",
        "cow2.make_sound()\n",
        "\n",
        "#supar\n",
        "class Animal:\n",
        "    def __init__(self,name):\n",
        "        # self.name=name\n",
        "        print(\"ggkfg\")\n",
        "    def make_sound(self):\n",
        "        print(\"animal sound\")\n",
        "\n",
        "class Cow(Animal):\n",
        "    def __init__(self,name):\n",
        "        super().__init__(name)\n",
        "        self.name=name\n",
        "\n",
        "    def make_sound(self):\n",
        "        print(\"animal cow sound\")\n",
        "cow3=Cow(\"cow1\")\n",
        "cow3.make_sound()\n",
        "\n",
        "#abstraction\n",
        "from abc import ABC,abstractmethod\n",
        "class Animal(ABC):\n",
        "    def __init__(self,name):\n",
        "        self.name=name\n",
        "    @abstractmethod\n",
        "    def make_sound(self):\n",
        "        pass\n",
        "class Cow(Animal):\n",
        "    def make_sound(self):\n",
        "        print(\"animal cow sound\")\n",
        "\n",
        "res=Cow(1)\n",
        "res.make_sound()"
      ]
    }
  ]
}